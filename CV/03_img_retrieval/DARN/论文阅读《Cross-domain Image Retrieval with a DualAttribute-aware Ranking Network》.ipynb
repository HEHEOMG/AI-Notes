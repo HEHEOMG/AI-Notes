{
 "cells": [
  {
   "cell_type": "markdown",
   "metadata": {},
   "source": [
    "# 论文阅读《Cross-domain Image Retrieval with a DualAttribute-aware Ranking Network》\n",
    "参考：\n",
    "1. [读论文，衣物检索：Cross-domain Image Retrieval with a DualAttribute-aware Ranking Network （2015）\n",
    "](https://blog.csdn.net/daniaokuye/article/details/79792431)\n",
    "2. [Cross-domain Image Retrieval with a Dual Attribute-aware Ranking Network](https://blog.csdn.net/wwy19930324/article/details/80361521)\n",
    "3. [Cross-domain Image Retrieval with a Dual Attribute-aware Ranking Network](https://www.cv-foundation.org/openaccess/content_iccv_2015/papers/Huang_Cross-Domain_Image_Retrieval_ICCV_2015_paper.pdf)\n",
    "\n",
    "# 1. idea\n",
    "1. 该论文基于一个应用，给定一张用户想要衣物图片，在线上商店中检索出与该衣物相同或属性相似的服装。\n",
    "2. 挑战：由于通常在理想的照明/姿势/背景条件下拍摄的在线购物图像与在不受控制的条件下拍摄的用户照片之间存在巨大差异，因此这是一个具有挑战性的问题。\n",
    "3. 在服装检索中，属性检索识别不仅是有用的，而且是必要的\n",
    "4. triplet在本文中是用于消弭不同数据集间特征差异，抓住关键特征\n",
    "\n",
    "# 2. Contributions\n",
    "1. 数据集，450000线上图片，90000线下，91,390图像对，每张照片有5-9个语义属性类别，像素800x500\n",
    "2. DARN网络：使用两分支网络结构，消除online和offline数据集间的差异\n",
    "3. 使用的是树状结构内嵌fc结构语义学习的方式处理细粒度特征\n",
    "\n",
    "# 3. 网络结构介绍\n",
    "1. 总体上是两个分支，一个分支接收一个数据集，在分支顶部会产生可以比较的信息。\n",
    "2. 然后分支中主要是卷积结构，第四个卷积层后面跟NIN中介绍的MLPConv，就是卷积模板跟堆叠的FC。然后总体上再跟两个FC。[NIN的MLPConv](https://www.cnblogs.com/yinheyi/p/6978223.html)\n",
    "3. 再在分支结构的顶部，加入树结构的FC层，对语义信息进行编码\n",
    "4. Triplet-based ranking loss 可以增加特征的可区分度，去除并非真正起作用的特征，separates the dissimilar images with a fixed margin——这个总体类似于SVM的目标函数，事实上也确实是这样：Loss(a, b, c)= max(0,m+dist(a, b)−dist(a, c))，其中a:offline,b:online same,c:onlinedissimilar。\n",
    "5. 此外，FC1编码的更多是全局的特征，会丢失小的局部特征。作者的方法是除FC1外同时考虑卷积层，使用max-pooling对靠前的卷积特征层下采样，类似于roi-pooling的形式。然后结果与全局特征组合在一起。\n",
    "6. DARN是衣物检索的网络，在应用该网络之前，需要把人体衣物检测并裁剪出来。使用的是Rcnn，用来识别并将衣物裁剪出来\n",
    "\n",
    "![](./img/cross_domain.png)\n",
    "\n",
    "# 4. 结果\n",
    "## 精度对比\n",
    "![](./img/cross_domain_02.jpg)"
   ]
  },
  {
   "cell_type": "code",
   "execution_count": null,
   "metadata": {},
   "outputs": [],
   "source": []
  }
 ],
 "metadata": {
  "kernelspec": {
   "display_name": "Python 3",
   "language": "python",
   "name": "python3"
  },
  "language_info": {
   "codemirror_mode": {
    "name": "ipython",
    "version": 3
   },
   "file_extension": ".py",
   "mimetype": "text/x-python",
   "name": "python",
   "nbconvert_exporter": "python",
   "pygments_lexer": "ipython3",
   "version": "3.7.10"
  }
 },
 "nbformat": 4,
 "nbformat_minor": 2
}
